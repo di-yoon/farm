{
 "cells": [
  {
   "cell_type": "code",
   "execution_count": 1,
   "id": "77a3d7fa",
   "metadata": {},
   "outputs": [],
   "source": [
    "from langchain_community.document_loaders import PyPDFLoader\n",
    "from langchain.storage import LocalFileStore, create_kv_docstore\n",
    "import os, uuid\n",
    "from dotenv import load_dotenv\n",
    "load_dotenv()\n",
    "\n",
    "# 1. 데이터로더로 데이터를 불러옵니다.\n",
    "loader = PyPDFLoader('가뭄 대비 농작물 관리 요령.pdf')\n",
    "documents = loader.load()\n",
    "\n",
    "docstore_path = './parent_docstore'\n",
    "if not os.path.exists(docstore_path):\n",
    "    os.mkdir(docstore_path)\n",
    "store = create_kv_docstore(LocalFileStore(docstore_path))"
   ]
  },
  {
   "cell_type": "code",
   "execution_count": 3,
   "id": "f30dc790",
   "metadata": {},
   "outputs": [
    {
     "name": "stderr",
     "output_type": "stream",
     "text": [
      "c:\\Users\\main\\miniforge3\\envs\\langchain_env\\Lib\\site-packages\\tqdm\\auto.py:21: TqdmWarning: IProgress not found. Please update jupyter and ipywidgets. See https://ipywidgets.readthedocs.io/en/stable/user_install.html\n",
      "  from .autonotebook import tqdm as notebook_tqdm\n"
     ]
    }
   ],
   "source": [
    "from main import load_vector_store\n",
    "from langchain.retrievers import ParentDocumentRetriever\n",
    "from langchain.text_splitter import RecursiveCharacterTextSplitter\n",
    "\n",
    "vector_db= load_vector_store()\n",
    "child_splitter = RecursiveCharacterTextSplitter(\n",
    "    chunk_size = 1000,\n",
    "    chunk_overlap = 150,\n",
    "    separators = ['\\n\\n', '\\n', '.', ' ', '']\n",
    "    )\n",
    "\n",
    "# 4. 리트리버로 ‘색인’ 수행\n",
    "indexer = ParentDocumentRetriever(\n",
    "    vectorstore=vector_db,\n",
    "    docstore=store,\n",
    "    child_splitter=child_splitter\n",
    ")\n",
    "indexer.add_documents(documents) "
   ]
  }
 ],
 "metadata": {
  "kernelspec": {
   "display_name": "langchain_env",
   "language": "python",
   "name": "python3"
  },
  "language_info": {
   "codemirror_mode": {
    "name": "ipython",
    "version": 3
   },
   "file_extension": ".py",
   "mimetype": "text/x-python",
   "name": "python",
   "nbconvert_exporter": "python",
   "pygments_lexer": "ipython3",
   "version": "3.12.11"
  }
 },
 "nbformat": 4,
 "nbformat_minor": 5
}
