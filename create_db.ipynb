{
 "cells": [
  {
   "cell_type": "code",
   "execution_count": 1,
   "id": "4da53757",
   "metadata": {},
   "outputs": [],
   "source": [
    "from langchain_community.document_loaders import PyPDFLoader\n",
    "from langchain_openai import OpenAIEmbeddings\n",
    "from langchain.text_splitter import RecursiveCharacterTextSplitter\n",
    "from langchain_chroma import Chroma\n",
    "from dotenv import load_dotenv\n",
    "load_dotenv()\n",
    "# 1. 데이터로더로 데이터를 불러옵니다.\n",
    "loader = PyPDFLoader('가뭄 대비 농작물 관리 요령.pdf')\n",
    "documents = loader.load()\n",
    "\n",
    "# 2. 불러온 데이터를 RecursiveCharacterTextSplitter를 사용하여 나누어 줍니다.\n",
    "text_splitter = RecursiveCharacterTextSplitter(\n",
    "    chunk_size = 500,\n",
    "    chunk_overlap = 150,\n",
    "    separators = ['\\n\\n', '\\n', '.', ' ', '']\n",
    ")\n",
    "\n",
    "splitted_documents = text_splitter.split_documents(documents)\n",
    "\n",
    "# 3. chroma 벡터 디비는 ‘farm’ 이름으로 새롭게 만들어 에 임베딩한 결과를 저장\n",
    "embeddings = OpenAIEmbeddings(model = 'text-embedding-3-large')\n",
    "voctorstore = Chroma.from_documents(documents=splitted_documents,\n",
    "                                    embedding = embeddings,\n",
    "                                    collection_name = 'farm',\n",
    "                                    persist_directory = './farm')"
   ]
  }
 ],
 "metadata": {
  "kernelspec": {
   "display_name": "langchain_env",
   "language": "python",
   "name": "python3"
  },
  "language_info": {
   "codemirror_mode": {
    "name": "ipython",
    "version": 3
   },
   "file_extension": ".py",
   "mimetype": "text/x-python",
   "name": "python",
   "nbconvert_exporter": "python",
   "pygments_lexer": "ipython3",
   "version": "3.12.11"
  }
 },
 "nbformat": 4,
 "nbformat_minor": 5
}
